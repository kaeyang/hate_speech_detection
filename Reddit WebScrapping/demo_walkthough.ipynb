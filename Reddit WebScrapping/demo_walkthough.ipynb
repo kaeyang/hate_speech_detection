{
 "cells": [
  {
   "cell_type": "code",
   "execution_count": 1,
   "metadata": {},
   "outputs": [],
   "source": [
    "from reddit_API_scrapper import *"
   ]
  },
  {
   "cell_type": "markdown",
   "metadata": {},
   "source": [
    "### Create directory with today's date"
   ]
  },
  {
   "cell_type": "code",
   "execution_count": 2,
   "metadata": {},
   "outputs": [
    {
     "data": {
      "text/plain": [
       "'/Users/kevin_yang/Desktop/Distributed Data Systems Project/reddit_2023/02'"
      ]
     },
     "execution_count": 2,
     "metadata": {},
     "output_type": "execute_result"
    }
   ],
   "source": [
    "dir_path = create_reddit_day_data_dirs(folder_path)\n",
    "dir_path "
   ]
  },
  {
   "attachments": {},
   "cell_type": "markdown",
   "metadata": {},
   "source": [
    "### Get a dataframe of top 100 hottest posts in a given subreddit"
   ]
  },
  {
   "cell_type": "code",
   "execution_count": 5,
   "metadata": {},
   "outputs": [],
   "source": [
    "# Feel free to change to another subreddit or # of posts\n",
    "test_df = create_subreddit_df(\"Politics\", 2)"
   ]
  },
  {
   "cell_type": "code",
   "execution_count": 6,
   "metadata": {},
   "outputs": [
    {
     "data": {
      "text/html": [
       "<div>\n",
       "<style scoped>\n",
       "    .dataframe tbody tr th:only-of-type {\n",
       "        vertical-align: middle;\n",
       "    }\n",
       "\n",
       "    .dataframe tbody tr th {\n",
       "        vertical-align: top;\n",
       "    }\n",
       "\n",
       "    .dataframe thead th {\n",
       "        text-align: right;\n",
       "    }\n",
       "</style>\n",
       "<table border=\"1\" class=\"dataframe\">\n",
       "  <thead>\n",
       "    <tr style=\"text-align: right;\">\n",
       "      <th></th>\n",
       "      <th>title</th>\n",
       "      <th>score</th>\n",
       "      <th>id</th>\n",
       "      <th>subreddit</th>\n",
       "      <th>url</th>\n",
       "      <th>num_comments</th>\n",
       "      <th>body</th>\n",
       "      <th>created</th>\n",
       "    </tr>\n",
       "  </thead>\n",
       "  <tbody>\n",
       "    <tr>\n",
       "      <th>0</th>\n",
       "      <td>Trump Put Nearly $1 Million Of Donor Money Int...</td>\n",
       "      <td>14931</td>\n",
       "      <td>10xugdd</td>\n",
       "      <td>politics</td>\n",
       "      <td>https://www.huffpost.com/entry/trump-campaign-...</td>\n",
       "      <td>588</td>\n",
       "      <td></td>\n",
       "      <td>2023-02-09 05:13:49-08:00</td>\n",
       "    </tr>\n",
       "    <tr>\n",
       "      <th>1</th>\n",
       "      <td>Calls grow for stronger ethics rules for Supre...</td>\n",
       "      <td>6065</td>\n",
       "      <td>10xubky</td>\n",
       "      <td>politics</td>\n",
       "      <td>https://thehill.com/regulation/court-battles/3...</td>\n",
       "      <td>110</td>\n",
       "      <td></td>\n",
       "      <td>2023-02-09 05:07:20-08:00</td>\n",
       "    </tr>\n",
       "  </tbody>\n",
       "</table>\n",
       "</div>"
      ],
      "text/plain": [
       "                                               title  score       id  \\\n",
       "0  Trump Put Nearly $1 Million Of Donor Money Int...  14931  10xugdd   \n",
       "1  Calls grow for stronger ethics rules for Supre...   6065  10xubky   \n",
       "\n",
       "  subreddit                                                url  num_comments  \\\n",
       "0  politics  https://www.huffpost.com/entry/trump-campaign-...           588   \n",
       "1  politics  https://thehill.com/regulation/court-battles/3...           110   \n",
       "\n",
       "  body                   created  \n",
       "0      2023-02-09 05:13:49-08:00  \n",
       "1      2023-02-09 05:07:20-08:00  "
      ]
     },
     "execution_count": 6,
     "metadata": {},
     "output_type": "execute_result"
    }
   ],
   "source": [
    "test_df.head()"
   ]
  },
  {
   "cell_type": "markdown",
   "metadata": {},
   "source": [
    "### Grab all comments from the dataframe "
   ]
  },
  {
   "cell_type": "code",
   "execution_count": 7,
   "metadata": {},
   "outputs": [],
   "source": [
    "test_comment_df = create_comment_df(test_df)"
   ]
  },
  {
   "cell_type": "code",
   "execution_count": 8,
   "metadata": {},
   "outputs": [
    {
     "data": {
      "text/html": [
       "<div>\n",
       "<style scoped>\n",
       "    .dataframe tbody tr th:only-of-type {\n",
       "        vertical-align: middle;\n",
       "    }\n",
       "\n",
       "    .dataframe tbody tr th {\n",
       "        vertical-align: top;\n",
       "    }\n",
       "\n",
       "    .dataframe thead th {\n",
       "        text-align: right;\n",
       "    }\n",
       "</style>\n",
       "<table border=\"1\" class=\"dataframe\">\n",
       "  <thead>\n",
       "    <tr style=\"text-align: right;\">\n",
       "      <th></th>\n",
       "      <th>post_id</th>\n",
       "      <th>comment</th>\n",
       "    </tr>\n",
       "  </thead>\n",
       "  <tbody>\n",
       "    <tr>\n",
       "      <th>0</th>\n",
       "      <td>10xugdd</td>\n",
       "      <td>\\nAs a reminder, this subreddit [is for civil ...</td>\n",
       "    </tr>\n",
       "    <tr>\n",
       "      <th>1</th>\n",
       "      <td>10xugdd</td>\n",
       "      <td>I'm certain he pocketed a lot more than that.</td>\n",
       "    </tr>\n",
       "    <tr>\n",
       "      <th>2</th>\n",
       "      <td>10xugdd</td>\n",
       "      <td>And this is EXACTLY what people with eyes and ...</td>\n",
       "    </tr>\n",
       "    <tr>\n",
       "      <th>3</th>\n",
       "      <td>10xugdd</td>\n",
       "      <td>Just a reminder that while Trump liked to golf...</td>\n",
       "    </tr>\n",
       "    <tr>\n",
       "      <th>4</th>\n",
       "      <td>10xugdd</td>\n",
       "      <td>...that we know of so far. \\n\\n\\nLet's be fair...</td>\n",
       "    </tr>\n",
       "    <tr>\n",
       "      <th>...</th>\n",
       "      <td>...</td>\n",
       "      <td>...</td>\n",
       "    </tr>\n",
       "    <tr>\n",
       "      <th>565</th>\n",
       "      <td>10xubky</td>\n",
       "      <td>Agreed</td>\n",
       "    </tr>\n",
       "    <tr>\n",
       "      <th>566</th>\n",
       "      <td>10xubky</td>\n",
       "      <td>That's unfair.\\n\\nYou forgot the police too! D...</td>\n",
       "    </tr>\n",
       "    <tr>\n",
       "      <th>567</th>\n",
       "      <td>10xubky</td>\n",
       "      <td>As long as at least a third of the Senate is R...</td>\n",
       "    </tr>\n",
       "    <tr>\n",
       "      <th>568</th>\n",
       "      <td>10xubky</td>\n",
       "      <td>As long as they're kneeling on the throats of ...</td>\n",
       "    </tr>\n",
       "    <tr>\n",
       "      <th>569</th>\n",
       "      <td>10xubky</td>\n",
       "      <td>You'd get upvotes from both parties for this c...</td>\n",
       "    </tr>\n",
       "  </tbody>\n",
       "</table>\n",
       "<p>570 rows × 2 columns</p>\n",
       "</div>"
      ],
      "text/plain": [
       "     post_id                                            comment\n",
       "0    10xugdd  \\nAs a reminder, this subreddit [is for civil ...\n",
       "1    10xugdd      I'm certain he pocketed a lot more than that.\n",
       "2    10xugdd  And this is EXACTLY what people with eyes and ...\n",
       "3    10xugdd  Just a reminder that while Trump liked to golf...\n",
       "4    10xugdd  ...that we know of so far. \\n\\n\\nLet's be fair...\n",
       "..       ...                                                ...\n",
       "565  10xubky                                             Agreed\n",
       "566  10xubky  That's unfair.\\n\\nYou forgot the police too! D...\n",
       "567  10xubky  As long as at least a third of the Senate is R...\n",
       "568  10xubky  As long as they're kneeling on the throats of ...\n",
       "569  10xubky  You'd get upvotes from both parties for this c...\n",
       "\n",
       "[570 rows x 2 columns]"
      ]
     },
     "execution_count": 8,
     "metadata": {},
     "output_type": "execute_result"
    }
   ],
   "source": [
    "test_comment_df"
   ]
  },
  {
   "cell_type": "markdown",
   "metadata": {},
   "source": [
    "### Store dfs as csv "
   ]
  },
  {
   "cell_type": "code",
   "execution_count": 9,
   "metadata": {},
   "outputs": [],
   "source": [
    "export_df_to_csv(\"politics\", test_df, test_comment_df, dir_path)"
   ]
  },
  {
   "cell_type": "code",
   "execution_count": null,
   "metadata": {},
   "outputs": [],
   "source": []
  }
 ],
 "metadata": {
  "kernelspec": {
   "display_name": "base",
   "language": "python",
   "name": "python3"
  },
  "language_info": {
   "codemirror_mode": {
    "name": "ipython",
    "version": 3
   },
   "file_extension": ".py",
   "mimetype": "text/x-python",
   "name": "python",
   "nbconvert_exporter": "python",
   "pygments_lexer": "ipython3",
   "version": "3.8.13"
  },
  "orig_nbformat": 4,
  "vscode": {
   "interpreter": {
    "hash": "b36cb969838aa7efc71662dcae87ad2e5df476bc74b903cea8549a6450c3f723"
   }
  }
 },
 "nbformat": 4,
 "nbformat_minor": 2
}
